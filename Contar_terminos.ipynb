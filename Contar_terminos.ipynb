{
  "nbformat": 4,
  "nbformat_minor": 0,
  "metadata": {
    "colab": {
      "name": "Ejercicio2.ipynb",
      "provenance": [],
      "collapsed_sections": [],
      "include_colab_link": true
    },
    "kernelspec": {
      "name": "python3",
      "display_name": "Python 3"
    },
    "language_info": {
      "name": "python"
    }
  },
  "cells": [
    {
      "cell_type": "markdown",
      "metadata": {
        "id": "view-in-github",
        "colab_type": "text"
      },
      "source": [
        "<a href=\"https://colab.research.google.com/github/adanfernandez/Data-Mining/blob/main/Contar_terminos.ipynb\" target=\"_parent\"><img src=\"https://colab.research.google.com/assets/colab-badge.svg\" alt=\"Open In Colab\"/></a>"
      ]
    },
    {
      "cell_type": "markdown",
      "metadata": {
        "id": "KkiJa1bgTJgg"
      },
      "source": [
        "# Segundo ejercicio\n",
        "## Preparación del entorno\n",
        "En primer lugar, se procederá a la descarga del fichero limpio facilitado por el profesor."
      ]
    },
    {
      "cell_type": "code",
      "metadata": {
        "colab": {
          "base_uri": "https://localhost:8080/"
        },
        "id": "cSUl91uUTS94",
        "outputId": "870ab319-e175-4e8d-9f83-4a43a6951f7c"
      },
      "source": [
        "%cd /content\n",
        "!mkdir limpio\n",
        "!mkdir ejercicio2\n",
        "%cd limpio\n",
        "\n",
        "!gdown --id 1brYy8Tiooo2Uw--FUmPb8lpkxJGM4cnR\n",
        "!unzip tweets-limpios.ndjson.zip"
      ],
      "execution_count": null,
      "outputs": [
        {
          "output_type": "stream",
          "text": [
            "/content\n",
            "mkdir: cannot create directory ‘limpio’: File exists\n",
            "mkdir: cannot create directory ‘ejercicio2’: File exists\n",
            "/content/limpio\n",
            "Downloading...\n",
            "From: https://drive.google.com/uc?id=1brYy8Tiooo2Uw--FUmPb8lpkxJGM4cnR\n",
            "To: /content/limpio/tweets-limpios.ndjson.zip\n",
            "573MB [00:05, 105MB/s]\n",
            "Archive:  tweets-limpios.ndjson.zip\n",
            "replace tweets-limpios.ndjson? [y]es, [n]o, [A]ll, [N]one, [r]ename: A\n",
            "  inflating: tweets-limpios.ndjson   \n"
          ],
          "name": "stdout"
        }
      ]
    },
    {
      "cell_type": "markdown",
      "metadata": {
        "id": "FOwVz7s8TUxz"
      },
      "source": [
        "Procedemos a la instalación de las dependencias "
      ]
    },
    {
      "cell_type": "code",
      "metadata": {
        "colab": {
          "base_uri": "https://localhost:8080/"
        },
        "id": "oE4dU8B2TiUW",
        "outputId": "878b49c7-6ffc-4024-a19c-9b582c628c34"
      },
      "source": [
        "!pip install ndjson"
      ],
      "execution_count": null,
      "outputs": [
        {
          "output_type": "stream",
          "text": [
            "Requirement already satisfied: ndjson in /usr/local/lib/python3.7/dist-packages (0.3.1)\n"
          ],
          "name": "stdout"
        }
      ]
    },
    {
      "cell_type": "markdown",
      "metadata": {
        "id": "t7W8iGaMT3Hj"
      },
      "source": [
        "# Cuerpo del ejercicio\n",
        "Se procede a contar los términos. La ejecución durará apróximadamente 4 minutos."
      ]
    },
    {
      "cell_type": "code",
      "metadata": {
        "colab": {
          "base_uri": "https://localhost:8080/"
        },
        "id": "SCMrwBcvUI0h",
        "outputId": "4ece4a50-2651-42ba-963f-0029aa8227f8"
      },
      "source": [
        "import io\n",
        "import ndjson\n",
        "import operator\n",
        "import os\n",
        "\n",
        "from collections import Counter\n",
        "from tqdm import tqdm\n",
        "\n",
        "def contar_palabras():\n",
        "  f = io.open(\"tweets-limpios.ndjson\", mode=\"r\", encoding=\"utf-8\")\n",
        "\n",
        "  tamano_leido=0\n",
        "  tamano_bloque=20*1024*1024\n",
        "  tamano = os.path.getsize(\"tweets-limpios.ndjson\")\n",
        "\n",
        "  terminos = []\n",
        "  hashtags = []\n",
        "  noum_chunks = []\n",
        "\n",
        "  with tqdm(total=tamano) as barra:\n",
        "    while True:\n",
        "      content = f.readlines(tamano_bloque)\n",
        "      content = \" \".join(content)\n",
        "      tamano_leido += tamano_bloque\n",
        "\n",
        "      if not content:\n",
        "        break\n",
        "      else:\n",
        "        jsons = ndjson.loads(content)\n",
        "        for data in jsons:\n",
        "          for token in data['tokens']:\n",
        "            terminos.append(token)\n",
        "          for hasthag in data['hashtags']:\n",
        "            if hasthag:\n",
        "              hashtags.append(hasthag['text'])\n",
        "          for noum_chunk in data['noun_chunks']:\n",
        "            noum_chunks.append(noum_chunk)\n",
        "\n",
        "        barra.update(tamano_bloque)\n",
        "\n",
        "  frecuencias = Counter(terminos)\n",
        "  frecuencias = sorted(frecuencias.items(),key=operator.itemgetter(1),reverse=True)\n",
        "  print('Tokens', frecuencias[0:100])\n",
        "\n",
        "  frecuencias = Counter(noum_chunks)\n",
        "  frecuencias = sorted(frecuencias.items(),key=operator.itemgetter(1),reverse=True)\n",
        "  print('Sintagmas nominales', frecuencias[0:100])\n",
        "\n",
        "  frecuencias = Counter(hashtags)\n",
        "  frecuencias = sorted(frecuencias.items(),key=operator.itemgetter(1),reverse=True)\n",
        "  print('Hashtags', frecuencias[0:100])\n",
        "\n",
        "contar_palabras()"
      ],
      "execution_count": null,
      "outputs": [
        {
          "output_type": "stream",
          "text": [
            "2306867200it [04:21, 8822541.43it/s]\n"
          ],
          "name": "stderr"
        },
        {
          "output_type": "stream",
          "text": [
            "Tokens [('rt', 2041075), ('rajoy', 1523236), ('a', 1372194), ('y', 1132430), ('pp', 361552), ('bárcenas', 230547), ('q', 180553), ('dinero', 161501), ('gobierno', 152611), ('@marianorajoy', 145840), ('vía', 144398), ('✉', 133070), ('españa', 128851), ('mariano', 127967), ('prensa', 126483), ('cierra', 126024), ('presidente', 125639), ('o', 120534), ('papa', 119008), ('mato', 105877), ('d', 101515), ('negro', 100363), ('millones', 97956), ('psoe', 93378), ('rueda', 92638), ('ana', 91544), ('preguntas', 89528), ('euros', 83702), ('partido', 82022), ('país', 78050), ('cospedal', 76571), ('corrupción', 76152), ('yocreoenrajoy', 73499), ('dimisión', 67803), ('mañana', 64764), ('sobres', 62800), ('caso', 61776), ('aparece', 59907), ('renta', 59841), ('cuentas', 58184), ('rubalcaba', 57140), ('telón', 54332), ('rajoynocontesta', 53722), ('@el_pais', 52377), ('m', 52160), ('renuncia', 51610), ('política', 51435), ('años', 51330), ('declaración', 49538), ('señor', 49443), ('parados', 48904), ('@ppopular', 47591), ('españoles', 46121), ('sobresueldos', 45700), ('e', 45699), ('rajoydimision', 45422), ('teatro', 44592), ('abre', 44116), ('dimite', 43932), ('@iescolar', 43589), ('@eldiarioes', 43515), ('pide', 43512), ('corrupplandia', 43266), ('paro', 43118), ('lospapelesdebárcenas', 42993), ('congreso', 42125), ('periodistas', 42073), ('cosa', 41973), ('génova', 41144), ('reforma', 40607), ('barcenas', 40432), ('falso', 39783), ('dimitir', 39605), ('@gobiernoespa', 38677), ('crisis', 38247), ('€', 37230), ('merkel', 37149), ('sede', 36529), ('@publico_es', 36371), ('transparencia', 36097), ('personas', 35441), ('suiza', 35350), ('papeles', 35183), ('laboral', 35156), ('b', 35103), ('cara', 34459), ('mundo', 34383), ('gente', 33257), ('i', 33164), ('comparecencia', 32823), ('año', 32318), ('alguien', 31368), ('via', 30572), ('madrid', 30404), ('@elmundoes', 30319), ('cúpula', 29097), ('declaraciones', 29058), ('escuela', 28886), ('salvoalgunacosa', 28767), ('popular', 28453)]\n",
            "Sintagmas nominales [('rt', 1411538), ('rajoy', 1270612), ('se', 682616), ('que', 535407), ('lo', 384268), ('pp', 223362), ('me', 212398), ('bárcenas', 192914), ('le', 163606), ('dinero', 114694), ('el pp', 111499), ('vía', 111264), ('españa', 103945), ('✉', 102562), ('te', 102140), ('nos', 101887), ('#', 99341), ('mariano rajoy', 92519), ('millones', 91211), ('prensa', 90964), ('yo', 88740), ('@marianorajoy', 86548), ('euros', 82291), ('preguntas', 76501), ('ana mato', 76332), ('qué', 74554), ('gobierno', 73500), ('nada', 66572), ('cospedal', 66516), ('yocreoenrajoy', 65337), ('todo', 63903), ('el papa', 57281), ('el telón', 53934), ('presidente', 53478), ('rubalcaba', 52219), ('eso', 49810), ('q', 49298), ('psoe', 47951), ('años', 46261), ('esto', 45474), ('os', 43349), ('la renta', 42751), ('d', 42500), ('parados', 42137), ('m', 41826), ('la dimisión', 41055), ('corrupción', 40121), ('rajoydimision', 40104), ('el gobierno', 39207), ('el psoe', 39158), ('el teatro', 39135), ('_', 37665), ('el dinero', 37006), ('todos', 36587), ('génova', 35254), ('les', 35158), ('lospapelesdebárcenas', 35008), ('el presidente', 34966), ('barcenas', 34776), ('la', 34167), ('€', 33394), ('las cuentas', 33382), ('sobres', 33361), ('suiza', 33045), ('papa', 32863), ('la rueda', 31759), ('negro', 31379), ('alguien', 30999), ('b', 30864), ('la corrupción', 30313), ('los papeles', 30099), ('personas', 29960), ('cómo', 29837), ('algo', 29750), ('la sede', 29274), ('corrupplandia', 29272), ('donde', 29104), ('quien', 28713), ('los periodistas', 28629), ('merkel', 28323), ('los españoles', 28117), ('la política', 27715), ('el telon', 27358), ('la escuela', 26917), ('el país', 26673), ('señor rajoy', 26407), ('alguna cosa', 26391), ('el caso', 26211), ('la reforma', 25856), ('la declaración', 25823), ('rajoynocontesta', 24819), ('arte', 24733), ('usted', 24704), ('nadie', 23748), ('él', 23655), ('sobresueldos', 23574), ('la cúpula', 23396), ('la prensa', 23065), ('rueda', 23018), ('la cara', 22454)]\n",
            "Hashtags [('Rajoy', 58089), ('RajoyNoContesta', 47143), ('YoCreoenRajoy', 36531), ('CorruPPlandia', 34306), ('lospapelesdebárcenas', 28381), ('YoCreoEnRajoy', 25147), ('RajoyDimision', 22868), ('SalvoAlgunaCosa', 21017), ('PP', 20981), ('RajoyDimisión', 19815), ('CulPPables', 17147), ('Bárcenas', 16110), ('PosTeDoyUnGuantazo', 15901), ('rajoydimision', 15398), ('nomeconsta', 14444), ('ARVBarcenasgate', 14048), ('SiHombre', 13062), ('QueHableRajoy', 12979), ('lospapelesdebarcenas', 12118), ('dbtsobres', 11527), ('lospapelesdeBárcenas', 10087), ('elpapadimite', 8554), ('España', 8409), ('sinpreguntasnohaycobertura', 7842), ('lospapelesdeBarcenas', 7310), ('EPA', 7201), ('Barcenas', 7180), ('corruPPlandia', 7056), ('yocreoenrajoy', 7025), ('salvoalgunacosa', 6934), ('rajoy', 6908), ('SíHombre', 6771), ('las5desol', 5635), ('culPPables', 5557), ('Rajoydimision', 5385), ('Cospedal', 5362), ('COAC2013', 5334), ('PorraPapaNuevo', 5281), ('NoMeConsta', 5021), ('TuMePones', 4961), ('15M', 4566), ('Papa', 4559), ('Tauro', 4505), ('papelesdebárcenas', 4502), ('BenedictoXVI', 4316), ('fb', 4231), ('Razones23F', 4164), ('sihombre', 3760), ('L6NsobreBárcenas', 3712), ('MarcaEspaña', 3709), ('comparecenciatróspida', 3646), ('rajoynocontesta', 3496), ('YocreoenRajoy', 3425), ('Génova', 3343), ('PSOE', 3278), ('barcenas', 3237), ('lospapelesde', 3166), ('Cuba', 3140), ('CIS', 3037), ('1MillonPPdimision', 2968), ('coac2013', 2930), ('Las5deSol', 2923), ('ComparecenciaTróspida', 2913), ('sinpreguntasnohayco', 2784), ('LosPapelesDeBárcenas', 2774), ('empleo', 2738), ('corrupción', 2672), ('Raj', 2631), ('verdadesymentiras', 2559), ('Madrid', 2540), ('Gürtel', 2533), ('Rajoynocontesta', 2526), ('lepuedepasaracualquiera', 2510), ('GranHermano14', 2404), ('las5deSol', 2387), ('FF', 2130), ('volvemos1F', 2112), ('CorruptosEntreRejasYA', 2080), ('los', 2036), ('paro', 1982), ('pp', 1968), ('Volvemos2F', 1935), ('noticias', 1926), ('18E', 1874), ('QuieroConocerEnPersonaA', 1856), ('Noticias', 1829), ('ÚltimaHora', 1780), ('RAJOYDIMISION', 1775), ('Rajoydimisión', 1775), ('L6NPPeuros', 1769), ('PPSOE', 1705), ('Rubalcaba', 1676), ('ElPapaDimite', 1602), ('nome', 1586), ('CospedalenlaSER', 1560), ('Corrupción', 1538), ('ILP', 1527), ('volvemos2F', 1527), ('LosPapelesDeBarcenas', 1460), ('losp', 1452)]\n"
          ],
          "name": "stdout"
        }
      ]
    },
    {
      "cell_type": "markdown",
      "metadata": {
        "id": "X0pBTlT2UwB-"
      },
      "source": [
        "Tras esto, se pueden sacar varias conclusiones acerca de las palabras vacías.\n",
        "Por un lado, la principal palabra vacía sería *rt*, el cual sale tanto en los tokens como en los sintagmas nominales y se refiere a los Retweets hechos a tweets originales. Es decir, gente que comparte un tweet.\n",
        "Después se podrían añadir otras tales como conjunciones -*y*-, pronombres -*se*- o palabras conformadas por un solo carácter. También se debería de estudiar el caso de los emoticonos. Por ejemplo, tenemos el caso de los sobres -✉-, que sí podrían que tenerse en cuenta en lo que respecta al tweet."
      ]
    }
  ]
}